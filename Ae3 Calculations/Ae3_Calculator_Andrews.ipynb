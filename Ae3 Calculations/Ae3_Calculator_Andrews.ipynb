{
 "cells": [
  {
   "cell_type": "markdown",
   "metadata": {},
   "source": [
    "# Ae3 Calculation - Andrews"
   ]
  },
  {
   "cell_type": "markdown",
   "metadata": {},
   "source": [
    "This notebook is for the calculation of a steel Ae3 temperature in ˚C using the equation proposed by Andrews (K.W. Andrews, JISI 203 (1965) 721–727.)."
   ]
  },
  {
   "cell_type": "code",
   "execution_count": 12,
   "metadata": {},
   "outputs": [],
   "source": [
    "def Ae3_A(composition):\n",
    "    import numpy as np\n",
    "    # checks if required elements have been inputted, if element not inputted then set composition to 0\n",
    "    required_elm = ['C','Si','Mn','Ni','Cr','Mo','Cu','Al','W','P','As','Ti','V']\n",
    "    for element in required_elm:\n",
    "        if element not in composition:\n",
    "            composition[element] = 0\n",
    "    # calculate Ae3\n",
    "    Ae3 = 910-(203*np.sqrt(composition['C']))+(44.7*composition['Si'])-(15.2*composition['Ni'])+(31.5*composition['Mo'])+(104*composition['V'])+(13.1*composition['W'])-(30*composition['Mn'])+(11*composition['Cr'])+(20*composition['Cu'])-(700*composition['P'])-(400*composition['Al'])-(120*composition['As'])-(400*composition['Ti'])\n",
    "    return round(Ae3,2)"
   ]
  }
 ],
 "metadata": {
  "kernelspec": {
   "display_name": "Python 3",
   "language": "python",
   "name": "python3"
  },
  "language_info": {
   "codemirror_mode": {
    "name": "ipython",
    "version": 3
   },
   "file_extension": ".py",
   "mimetype": "text/x-python",
   "name": "python",
   "nbconvert_exporter": "python",
   "pygments_lexer": "ipython3",
   "version": "3.8.3"
  }
 },
 "nbformat": 4,
 "nbformat_minor": 4
}
