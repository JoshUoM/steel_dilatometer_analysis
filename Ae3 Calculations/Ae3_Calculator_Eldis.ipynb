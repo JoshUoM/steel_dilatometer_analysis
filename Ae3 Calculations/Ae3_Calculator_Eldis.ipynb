{
 "cells": [
  {
   "cell_type": "markdown",
   "metadata": {},
   "source": [
    "# Ae3 Calculator - Eldis"
   ]
  },
  {
   "cell_type": "markdown",
   "metadata": {},
   "source": [
    "This notebook is for the calculation of a steel Ae3 temperature in ˚C using the equation proposed by Eldis."
   ]
  },
  {
   "cell_type": "code",
   "execution_count": 8,
   "metadata": {},
   "outputs": [],
   "source": [
    "def Ae3_E(composition):\n",
    "    import numpy as np\n",
    "    # checks if required elements have been inputted, if element not inputted then set composition to 0\n",
    "    required_elm = ['C','Ni','Si']\n",
    "    for element in required_elm:\n",
    "        if element not in composition:\n",
    "            composition[element] = 0\n",
    "    # calculate Ae3\n",
    "    Ae3 = 871-(254.4*np.sqrt(composition['C']))-(14.2*composition['Ni'])+(51.7*composition['Si'])\n",
    "    return round(Ae3,2)"
   ]
  }
 ],
 "metadata": {
  "kernelspec": {
   "display_name": "Python 3",
   "language": "python",
   "name": "python3"
  },
  "language_info": {
   "codemirror_mode": {
    "name": "ipython",
    "version": 3
   },
   "file_extension": ".py",
   "mimetype": "text/x-python",
   "name": "python",
   "nbconvert_exporter": "python",
   "pygments_lexer": "ipython3",
   "version": "3.8.3"
  }
 },
 "nbformat": 4,
 "nbformat_minor": 4
}
