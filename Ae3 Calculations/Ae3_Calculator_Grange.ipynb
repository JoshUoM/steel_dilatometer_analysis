{
 "cells": [
  {
   "cell_type": "markdown",
   "metadata": {},
   "source": [
    "# Ae3 Calculation - Grange"
   ]
  },
  {
   "cell_type": "markdown",
   "metadata": {},
   "source": [
    "This notebook is for the calculation of a steel Ae3 temperature in ˚C using the equation proposed by Grange (R.A. Grange, Metal Progress 73 (1961).). The units have been converted from ˚C to ˚F for this calculator."
   ]
  },
  {
   "cell_type": "code",
   "execution_count": 4,
   "metadata": {},
   "outputs": [],
   "source": [
    "def Ae3_G(composition):\n",
    "    import numpy as np\n",
    "    # checks if required elements have been inputted, if element not inputted then set composition to 0\n",
    "    required_elm = ['C','Si','Mn','Ni','Cr']\n",
    "    for element in required_elm:\n",
    "        if element not in composition:\n",
    "            composition[element] = 0\n",
    "    # calculate Ae3\n",
    "    Ae3 = ((1570-(323*composition['C'])-(25*composition['Mn'])+(80*composition['Si'])-(3*composition['Cr'])-(32*composition['Ni']))-32)*(5/9)\n",
    "    return round(Ae3,2)"
   ]
  }
 ],
 "metadata": {
  "kernelspec": {
   "display_name": "Python 3",
   "language": "python",
   "name": "python3"
  },
  "language_info": {
   "codemirror_mode": {
    "name": "ipython",
    "version": 3
   },
   "file_extension": ".py",
   "mimetype": "text/x-python",
   "name": "python",
   "nbconvert_exporter": "python",
   "pygments_lexer": "ipython3",
   "version": "3.8.3"
  }
 },
 "nbformat": 4,
 "nbformat_minor": 4
}
