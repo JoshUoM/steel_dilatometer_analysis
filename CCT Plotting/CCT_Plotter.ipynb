{
 "cells": [
  {
   "cell_type": "markdown",
   "metadata": {},
   "source": [
    "# Continuous Cooling Transformation (CCT) Plotter"
   ]
  },
  {
   "cell_type": "markdown",
   "metadata": {},
   "source": [
    "This notebook is for the automatic plotting of analysed dilatometry data to continuous cooling transformation (CCT) curves. The CCT will be saved as a .png file in the same directory as either this notebook or the notebook containing the plotter code."
   ]
  },
  {
   "cell_type": "markdown",
   "metadata": {},
   "source": [
    "## 1. Input Parameters"
   ]
  },
  {
   "cell_type": "markdown",
   "metadata": {},
   "source": [
    "The input parameters for this plotter include: **file**, **Ae3**, **sample**."
   ]
  },
  {
   "cell_type": "markdown",
   "metadata": {},
   "source": [
    "### Parameter 1: file"
   ]
  },
  {
   "cell_type": "markdown",
   "metadata": {},
   "source": [
    "An input for the .xslx file (+ file path if required) containing the raw CCT data. If the .xlsx file is saved in the same directory as either this notebook, or a notebook using this code, then the input would be something like:\n",
    "\n",
    "    file = 'CCT_data_example.xlsx'\n",
    "    \n",
    "If the .xlsx file is located in another directory then a file path must be inputted before the file name. For example, if your .xlsx file is located in the previous directory then the input would be:\n",
    "\n",
    "    file = '..\\CCT_data_example.xlsx'\n",
    "\n",
    "Whereas, if the .xlsx file is located in a folder in the directory in use, lets say this folder is called 'data', then the input would be:\n",
    "\n",
    "    file = 'data\\CCT_data_example.xlsx'\n",
    "\n",
    "The format of the .xlsx file should be set in a specific way so that the code can manipulate it correctly. The format of the data should be as follows:\n",
    "\n",
    "<table>\n",
    "  <thead>\n",
    "    <tr>\n",
    "      <th>Rate</th>\n",
    "      <th>Tf</th>\n",
    "      <th>Stdf</th>\n",
    "      <th>Tp</th>\n",
    "      <th>Stdp</th>\n",
    "      <th>Tb</th>\n",
    "      <th>Stdb</th>\n",
    "      <th>Tm</th>\n",
    "      <th>Stdm</th>\n",
    "    </tr>\n",
    "  </thead>\n",
    "  <tbody>\n",
    "    <tr>\n",
    "      <td></td>\n",
    "      <td></td>\n",
    "      <td></td>\n",
    "      <td></td>\n",
    "      <td></td>\n",
    "      <td></td>\n",
    "      <td></td>\n",
    "      <td></td>\n",
    "      <td></td>\n",
    "    </tr>\n",
    "  </tbody>\n",
    "</table>\n",
    "\n",
    "where Tf, Tp, Tb & Tm are the transformation start temperatures for ferrite, pearlite, bainite and martensite respectively. Using this same notation, Stdf, Stdp, Stdb & Stdm are the standard deviations of the start temperature values for each constituent. The column for 'Rate' is for the input of the cooling rate. See '**CCT_data_example.xlsx**' for an example input file for this plotter. The .xlsx file must contain columns for start temperatures (Tf, Tp, Tb & Tm) and the cooling rate (Rate). Cells can be left blank if there is no data present, but these columns must be inputted for the plotter to work. The columns for standard deviation (Stdf, Stdp, Stdb & Stdm) are not essential, as the code will work without them, but it is recommend that users input them - even if the value of standard deviation is 0. A good example of an acceptable .xlsx input would be:\n",
    "\n",
    "<table>\n",
    "  <thead>\n",
    "    <tr>\n",
    "      <th>Rate</th>\n",
    "      <th>Tf</th>\n",
    "      <th>Stdf</th>\n",
    "      <th>Tp</th>\n",
    "      <th>Stdp</th>\n",
    "      <th>Tb</th>\n",
    "      <th>Stdb</th>\n",
    "      <th>Tm</th>\n",
    "      <th>Stdm</th>\n",
    "    </tr>\n",
    "  </thead>\n",
    "  <tbody>\n",
    "    <tr>\n",
    "      <td> 0.1 </td>\n",
    "      <td> 750 </td>\n",
    "      <td> 0 </td>\n",
    "      <td>  </td>\n",
    "      <td>  </td>\n",
    "      <td> 500 </td>\n",
    "      <td> 0.5 </td>\n",
    "      <td> 200 </td>\n",
    "      <td> 2.5 </td>\n",
    "    </tr>\n",
    "    <tbody>\n",
    "    <tr>\n",
    "      <td> 1 </td>\n",
    "      <td>  </td>\n",
    "      <td>  </td>\n",
    "      <td>  </td>\n",
    "      <td>  </td>\n",
    "      <td> 450 </td>\n",
    "      <td> 3.0 </td>\n",
    "      <td> 250 </td>\n",
    "      <td> 1.8 </td>\n",
    "    </tr>\n",
    "  </tbody>\n",
    "</table>\n",
    "\n",
    "Equally, this input would work:\n",
    "\n",
    "<table>\n",
    "  <thead>\n",
    "    <tr>\n",
    "      <th>Rate</th>\n",
    "      <th>Tf</th>\n",
    "      <th>Tp</th>\n",
    "      <th>Tb</th>\n",
    "      <th>Tm</th>\n",
    "    </tr>\n",
    "  </thead>\n",
    "  <tbody>\n",
    "    <tr>\n",
    "      <td> 0.1 </td>\n",
    "      <td> 750 </td>\n",
    "      <td>  </td>\n",
    "      <td> 500 </td>\n",
    "      <td> 200 </td>\n",
    "    </tr>\n",
    "    <tbody>\n",
    "    <tr>\n",
    "      <td> 1 </td>\n",
    "      <td>  </td>\n",
    "      <td>  </td>\n",
    "      <td> 450 </td>\n",
    "      <td> 250 </td>\n",
    "    </tr>\n",
    "  </tbody>\n",
    "</table>\n",
    "\n",
    "But not this:\n",
    "\n",
    "<table>\n",
    "  <thead>\n",
    "    <tr>\n",
    "      <th>Rate</th>\n",
    "      <th>Tf</th>\n",
    "      <th>Tb</th>\n",
    "      <th>Tm</th>\n",
    "    </tr>\n",
    "  </thead>\n",
    "  <tbody>\n",
    "    <tr>\n",
    "      <td> 0.1 </td>\n",
    "      <td> 750 </td>\n",
    "      <td> 500 </td>\n",
    "      <td> 200 </td>\n",
    "    </tr>\n",
    "    <tbody>\n",
    "    <tr>\n",
    "      <td> 1 </td>\n",
    "      <td>  </td>\n",
    "      <td> 450 </td>\n",
    "      <td> 250 </td>\n",
    "    </tr>\n",
    "  </tbody>\n",
    "</table>\n",
    "\n",
    "as the column for pearlite start temperature, Tp is missing."
   ]
  },
  {
   "cell_type": "markdown",
   "metadata": {},
   "source": [
    "### Parameter 2: Ae3"
   ]
  },
  {
   "cell_type": "markdown",
   "metadata": {},
   "source": [
    "This input is for the value of the Ae3 temperature. This can either be calculated using Thermo-Calc software or using empirical equations such as those by Andrews (K.W. Andrews, JISI 203 (1965) 721–727.), Grange (R.A. Grange, Metal Progress 73 (1961).) and Eldis (**citation needed**). \n",
    "\n",
    "An example of the required input would be:\n",
    "\n",
    "    Ae3 = 730"
   ]
  },
  {
   "cell_type": "markdown",
   "metadata": {},
   "source": [
    "### Parameter 3: sample"
   ]
  },
  {
   "cell_type": "markdown",
   "metadata": {},
   "source": [
    "An input for the sample name. This parameter is used in the title of the CCT and in naming the .png file saved to the directory.\n",
    "\n",
    "An example of this input would be:\n",
    "\n",
    "    sample = 'SA-540, TA=870'"
   ]
  },
  {
   "cell_type": "markdown",
   "metadata": {},
   "source": [
    "## 2. Example"
   ]
  },
  {
   "cell_type": "markdown",
   "metadata": {},
   "source": [
    "See '**CCT_plotter_example.png**' for an example of how to use this notebook code."
   ]
  },
  {
   "cell_type": "markdown",
   "metadata": {},
   "source": [
    "## 3. Code"
   ]
  },
  {
   "cell_type": "code",
   "execution_count": 3,
   "metadata": {},
   "outputs": [],
   "source": [
    "def CCT_Plotter(file, Ae3, sample):\n",
    "    # import required packages\n",
    "    import numpy as np\n",
    "    import pandas as pd\n",
    "    import matplotlib.pyplot as plt\n",
    "    \n",
    "    #read file\n",
    "    CCT = pd.read_excel(file)\n",
    "    \n",
    "    # define plot format (colours and markers) for ferrite, pearlite, bainite & martensite\n",
    "    colors = {'f':'steelblue','p':'mediumorchid','b':'sandybrown','m':'mediumseagreen'}\n",
    "    markers = {'f':'o','p':'D','b':'^','m':'s'}\n",
    "    \n",
    "    # create figure environment\n",
    "    plt.figure(figsize=(12,8))\n",
    "    \n",
    "    # plot Ae3 line and cooling curves\n",
    "    plt.plot([1,10**4],[Ae3,Ae3], color = 'k', linestyle = '--', linewidth = 1.5)\n",
    "    plt.text(1500, Ae3, '$Ae_3$='+str(Ae3)+'\\N{DEGREE SIGN}C', bbox={'facecolor': 'white'})  \n",
    "    for r in CCT['Rate']:\n",
    "        t = []\n",
    "        Te = []\n",
    "        temp = np.linspace(Ae3,0,(Ae3)*10)\n",
    "        for T in temp[1:]:\n",
    "            t.append((Ae3-T)/r)\n",
    "            Te.append(T)\n",
    "        if r == 0.01 or r == 0.1 or r == 1 or r == 10 or r == 100 or r == 1000:\n",
    "            plt.plot(t, Te, linewidth=0.75, color = 'r')\n",
    "            plt.text((Ae3-200)/r, 25, str(r)+'\\N{DEGREE SIGN}C/s', bbox={'facecolor': 'white'})   \n",
    "        else:\n",
    "            plt.plot(t, Te, linewidth=0.25, color = 'r')\n",
    "    \n",
    "    # plot CCT data\n",
    "    for p in ['f','p','b','m']:\n",
    "        try:\n",
    "            plt.errorbar((Ae3-CCT['T'+p])/CCT['Rate'], CCT['T'+p], yerr = CCT['Std'+p], ecolor = 'k', color = colors[p], marker = markers[p])\n",
    "        except KeyError:\n",
    "            plt.plot((Ae3-CCT['T'+p])/CCT['Rate'], CCT['T'+p], color = colors[p], marker = markers[p])\n",
    "    # define figure layout and annotations\n",
    "    plt.xscale('log')\n",
    "    plt.xlabel('Time (s)', fontsize = 14)\n",
    "    plt.ylabel('Temperature (\\N{DEGREE SIGN}C)', fontsize=14)\n",
    "    plt.title(sample, fontsize = 18)\n",
    "    plt.xlim(1,10**4)\n",
    "    plt.ylim(0,Ae3+25)\n",
    "    plt.xscale('log')\n",
    "    \n",
    "    # saves CCT to the same directory as this code\n",
    "    plt.savefig(sample+'_CCT.png')\n",
    "    return"
   ]
  }
 ],
 "metadata": {
  "kernelspec": {
   "display_name": "Python 3",
   "language": "python",
   "name": "python3"
  },
  "language_info": {
   "codemirror_mode": {
    "name": "ipython",
    "version": 3
   },
   "file_extension": ".py",
   "mimetype": "text/x-python",
   "name": "python",
   "nbconvert_exporter": "python",
   "pygments_lexer": "ipython3",
   "version": "3.8.3"
  }
 },
 "nbformat": 4,
 "nbformat_minor": 4
}
