{
 "cells": [
  {
   "cell_type": "markdown",
   "metadata": {},
   "source": [
    "# Bs Calculator - Li"
   ]
  },
  {
   "cell_type": "markdown",
   "metadata": {},
   "source": [
    "This notebook is for the calculation of a steel bainite start, Bs temperature in ˚C using an equation proposed by Li et al. (M.V. Li, D.V. Niebuhr, L.L. Meekisho and D.G. Atteridge, Metall. Mater. Trans. B, 29B (1998) 661-672.)."
   ]
  },
  {
   "cell_type": "code",
   "execution_count": 1,
   "metadata": {},
   "outputs": [],
   "source": [
    "def Bs_Li(composition):\n",
    "    # checks if required elements have been inputted, if element not inputted then set composition to 0\n",
    "    required_elm = ['C','Mn','Ni','Cr','Mo']\n",
    "    for element in required_elm:\n",
    "        if element not in composition:\n",
    "            composition[element] = 0\n",
    "    # calculate Bs\n",
    "    Bs = 637 - 58*composition['C'] - 35*composition['Mn'] - 15*composition['Ni'] - 34*composition['Cr'] - 41*composition['Mo']\n",
    "    return round(Bs,2)"
   ]
  }
 ],
 "metadata": {
  "kernelspec": {
   "display_name": "Python 3",
   "language": "python",
   "name": "python3"
  },
  "language_info": {
   "codemirror_mode": {
    "name": "ipython",
    "version": 3
   },
   "file_extension": ".py",
   "mimetype": "text/x-python",
   "name": "python",
   "nbconvert_exporter": "python",
   "pygments_lexer": "ipython3",
   "version": "3.8.3"
  }
 },
 "nbformat": 4,
 "nbformat_minor": 4
}
