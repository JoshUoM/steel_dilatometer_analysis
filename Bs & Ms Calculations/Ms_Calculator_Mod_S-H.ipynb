{
 "cells": [
  {
   "cell_type": "markdown",
   "metadata": {},
   "source": [
    "# Ms Calculator - Modified Steven & Haynes"
   ]
  },
  {
   "cell_type": "markdown",
   "metadata": {},
   "source": [
    "This notebook is for the calculation of a steel martensite start, Ms temperature in ˚C using a modified Steven and Haynes (W. Steven and A.G. Haynes, JISI 183 (1956) 349–359.) equation by Kung and Rayment (C.Y. Kung and J.J. Rayment, Metall. Trans. A 13 (1982) 328–331.)."
   ]
  },
  {
   "cell_type": "code",
   "execution_count": 2,
   "metadata": {},
   "outputs": [],
   "source": [
    "def Ms_ModSH(composition):\n",
    "    # checks if required elements have been inputted, if element not inputted then set composition to 0\n",
    "    required_elm = ['C','Si','Mn','Ni','Cr','Mo','Co']\n",
    "    for element in required_elm:\n",
    "        if element not in composition:\n",
    "            composition[element] = 0\n",
    "    # calculate Ms\n",
    "    Ms = 561 - 474*composition['C'] - 33*composition['Mn'] - 17*composition['Cr'] - 17*composition['Ni'] - 21*composition['Mo'] + 10*composition['Co'] - 7.5*composition['Si']\n",
    "    return round(Ms,2)"
   ]
  }
 ],
 "metadata": {
  "kernelspec": {
   "display_name": "Python 3",
   "language": "python",
   "name": "python3"
  },
  "language_info": {
   "codemirror_mode": {
    "name": "ipython",
    "version": 3
   },
   "file_extension": ".py",
   "mimetype": "text/x-python",
   "name": "python",
   "nbconvert_exporter": "python",
   "pygments_lexer": "ipython3",
   "version": "3.8.3"
  }
 },
 "nbformat": 4,
 "nbformat_minor": 4
}
