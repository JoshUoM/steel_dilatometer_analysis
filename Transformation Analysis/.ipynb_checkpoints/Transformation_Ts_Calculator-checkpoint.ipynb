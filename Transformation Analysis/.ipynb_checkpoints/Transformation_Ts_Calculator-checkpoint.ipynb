{
 "cells": [
  {
   "cell_type": "markdown",
   "metadata": {},
   "source": [
    "# Transformation Start, Ts Calculator"
   ]
  },
  {
   "cell_type": "markdown",
   "metadata": {},
   "source": [
    "This notebook is for the analysis of dilation curves, primarily for steel alloys with allotromorphic phase transformations, for the determination of transformation start temperatures. The calculator adopts the offset method, first proposed by Yang and Bhadeshia, to predict the temperature at which 1% of a transformation has occurred. For more information regarding the offset method see H-S. Yang and H.K.D.H. Bhadeshia, Materials Science and Technology 23 (2007) 556-560. https://www.tandfonline.com/doi/abs/10.1179/174328407X176857. "
   ]
  },
  {
   "cell_type": "markdown",
   "metadata": {},
   "source": [
    "## Code"
   ]
  },
  {
   "cell_type": "code",
   "execution_count": 2,
   "metadata": {},
   "outputs": [],
   "source": [
    "def dilation_plotter(file,r,L0,N):\n",
    "    # read data in file\n",
    "    data = pd.read_csv(file, delimiter = r\"\\s+\", header = None, skiprows=4, error_bad_lines=False, engine='python')\n",
    "    # isolate first 2 columns (which should be 'Temperature' & 'Change in Length')\n",
    "    for n in range(len(data.columns)):\n",
    "        if n == 1 or n == 2:\n",
    "            pass\n",
    "        else:\n",
    "            del data[n]\n",
    "    data.columns = ['T', 'x']\n",
    "    # calculate strain using initial length (L0)\n",
    "    data['e'] = (data['x']*10**(-6))/L0\n",
    "    # isolate cooling curve from data\n",
    "    dataset = data[N:]\n",
    "    # plot cooling curve as 'Temperature' vs. 'Strain'\n",
    "    plt.figure(figsize=(15,7))\n",
    "    plt.plot(dataset['T'],dataset['e'],color='mediumseagreen',linewidth=2,label='Cooling rate = '+str(r)+'\\N{DEGREE SIGN}C/s')\n",
    "    plt.xlabel('Temperature (\\N{DEGREE SIGN}C)', fontsize=16)\n",
    "    plt.ylabel('Strain (mm/mm)', fontsize=16)\n",
    "    plt.tick_params(axis='x', labelsize=13)\n",
    "    plt.tick_params(axis='y', labelsize=13)\n",
    "    plt.legend(loc='upper left',fontsize=12)\n",
    "    return"
   ]
  },
  {
   "cell_type": "code",
   "execution_count": 3,
   "metadata": {},
   "outputs": [],
   "source": [
    "def dilation_analyser(file,L0,r,Ti,dT,offset):\n",
    "    # read data in file\n",
    "    data = pd.read_csv(file, delimiter = r\"\\s+\", header = None, skiprows=4, error_bad_lines=False, engine='python')\n",
    "    # isolate first 2 columns (which should be 'Temperature' & 'Change in Length')\n",
    "    for n in range(len(data.columns)):\n",
    "        if n == 1 or n == 2:\n",
    "            pass\n",
    "        else:\n",
    "            del data[n]\n",
    "    data.columns = ['T', 'x']\n",
    "    # calculate strain using initial length (L0)\n",
    "    data['e'] = (data['x']*10**(-6))/L0\n",
    "    # isolate cooling curve from data\n",
    "    dataset = data[N:]\n",
    "    # isolate temperature and strain data as Python lists\n",
    "    temp = list(dataset['T'])\n",
    "    strain = list(dataset['e'])\n",
    "    # check whether temperature ranges for offset lines fit within the data range - if not, return function\n",
    "    if Ti+(2*dT)+50 > temp[0]:\n",
    "        print('TEMPERATURE RANGE TOO BIG - adjust Ti or dT.')\n",
    "        print('Max. temperature = ',str(round(temp[0],0)),', max. range = ',str(Ti+(2*dT)+50))\n",
    "        return\n",
    "    # define temperature ranges for offset lines using Ti and dT\n",
    "    temp_range = [Ti,Ti+dT,Ti+(2*dT)]\n",
    "    # create empty list for interception points to be appended to\n",
    "    interceptions = []\n",
    "    # create figure space to plot into\n",
    "    fig, axs = plt.subplots(1, 3, figsize = (16,5))\n",
    "    # set count start (i = 0)\n",
    "    i = 0\n",
    "    # loop through temperature ranges and calculate interception points, appending to pre-defined list\n",
    "    for T1 in temp_range:\n",
    "        # determine index values (n) for temperature range (allowing direct relation to strain list)\n",
    "        n1 = list(np.around(temp,0)).index(T1)\n",
    "        n0 = list(np.around(temp,0)).index(T1+50)\n",
    "        # define equation for straight line (y = m.x + c) by calculating m and c using temperature range\n",
    "        m = (strain[n0]-strain[n1])/(temp[n0]-temp[n1])\n",
    "        c = strain[n1] - m*temp[n1]\n",
    "        # create empty lists for the straight line data and offset line data\n",
    "        lin_strain, off_strain = [], []\n",
    "        # loop through temperature values to fill lists with data\n",
    "        for T in temp:\n",
    "            lin_strain.append(m*T + c)\n",
    "            off_strain.append(m*T + c + offset)\n",
    "        # determine intersection points between cooling curve ('strain') and offset line ('off_strain')\n",
    "        idx = np.argwhere(np.gradient(np.sign(np.array(off_strain) - np.array(strain)))).flatten() \n",
    "        intercept = temp[idx[-1]]\n",
    "        # append temperature of interception to list\n",
    "        interceptions.append(intercept)\n",
    "        # plot analysis on graph for user visuals\n",
    "        axs[i].plot(temp,strain,color='mediumseagreen',zorder=0)\n",
    "        axs[i].plot(temp,lin_strain,color='k',linestyle=':',zorder=1)\n",
    "        axs[i].plot(temp,off_strain,color='steelblue',linestyle='-',zorder=2)\n",
    "        axs[i].scatter(intercept,m*intercept + c + offset,color='tomato',marker='x')\n",
    "        axs[i].text(intercept+25, m*intercept + c + offset, str(round(intercept,1))+'\\N{DEGREE SIGN}C', fontsize = 12, bbox={'facecolor': 'white'}, color = 'red')\n",
    "        axs[i].set_xlabel('Temperature (\\N{DEGREE SIGN}C)',fontsize=14)\n",
    "        axs[0].set_ylabel('Strain (mm/mm)',fontsize=14)\n",
    "        axs[i].set_title('T. Range: '+str(T1)+' - '+str(T1+50)+'\\N{DEGREE SIGN}C',fontsize=15)\n",
    "        minX, maxX = T1-200, T1+50\n",
    "        axs[i].set_xlim(minX,maxX)\n",
    "        axs[i].set_ylim(m*(minX)+c,m*(maxX)+c)\n",
    "        # increase count\n",
    "        i += 1\n",
    "    # calculate and return the average interception temperature (i.e., Ts) and standard deviation as list -> [Ts,Std]\n",
    "    return [round(np.mean(interceptions),1), round(np.std(interceptions),1)]"
   ]
  }
 ],
 "metadata": {
  "kernelspec": {
   "display_name": "Python 3",
   "language": "python",
   "name": "python3"
  },
  "language_info": {
   "codemirror_mode": {
    "name": "ipython",
    "version": 3
   },
   "file_extension": ".py",
   "mimetype": "text/x-python",
   "name": "python",
   "nbconvert_exporter": "python",
   "pygments_lexer": "ipython3",
   "version": "3.8.8"
  }
 },
 "nbformat": 4,
 "nbformat_minor": 2
}
