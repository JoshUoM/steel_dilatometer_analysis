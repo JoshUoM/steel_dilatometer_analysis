{
 "cells": [
  {
   "cell_type": "markdown",
   "metadata": {},
   "source": [
    "# Dilation Curve Plotter"
   ]
  },
  {
   "cell_type": "markdown",
   "metadata": {},
   "source": [
    "This notebook is for the easy plotting of multiple dilation curves, from the same sample but varying cooling rates, on the same figure but offset from each other. Plotting dilation curves in this way can sometimes assist with dilatometry analysis and acts as a nice way to present data."
   ]
  },
  {
   "cell_type": "markdown",
   "metadata": {},
   "source": [
    "## 1. Input Parameters"
   ]
  },
  {
   "cell_type": "markdown",
   "metadata": {},
   "source": [
    "The input parameters for this notebook are: **dict_of_data**, **L0**, **N**, **dict_of_offsets**, **sample**."
   ]
  },
  {
   "cell_type": "markdown",
   "metadata": {},
   "source": [
    "### Parameter 1: dict_of_data"
   ]
  },
  {
   "cell_type": "markdown",
   "metadata": {},
   "source": [
    "A python dictionary containing the .asc file names (+ file paths if required) for each dilatometry test. This is used to loop through each dataset. The .asc files should be in the same format used in the '**Transformation_Ts_Calculator.ipynb**' notebook - saving only temperature and change in length. For more information see this notebook.\n",
    "\n",
    "The layout of a python dictionary is made up of keys and values, and is as follows:\n",
    "\n",
    "    dictionary = { key1 : value1, key2: value2, ect. }\n",
    "    \n",
    "So, for example, let's say each .asc file is saved in a folder called 'data' within this directory, the filepath for these files would be:\n",
    "\n",
    "    filepath = 'data\\'\n",
    "    \n",
    "Let's say this folder contains 3 different tests, for 0.1, 1 & 10 °C/s cools, called:\n",
    "\n",
    "    '0.1.asc'\n",
    "    '1.asc'\n",
    "    '10.asc'\n",
    "    \n",
    "These files have been provided alongside this notebook for users to view in a folder called '**data**'.\n",
    "    \n",
    "The dictionary of data (dict_of_data) should therefore be inputted as:\n",
    "\n",
    "    dict_of_data = {'0.1': 'data\\0.1.asc', '1': 'data\\1.asc', '10': 'data\\10.asc'}\n",
    "    \n",
    "where the dictionary keys are the cooling rate (in string format - i.e., in apostrophes ' ') and the values are the file names (+ file path). Note: the '\\data' filepath would not be required if all .asc files are within the same directory as the notebook running this code."
   ]
  },
  {
   "cell_type": "markdown",
   "metadata": {},
   "source": [
    "### Parameter 2: L0"
   ]
  },
  {
   "cell_type": "markdown",
   "metadata": {},
   "source": [
    "The initial length of the sample in metres. This parameter is used to calculate strain from change in length and is usually 0.01 m.\n",
    "\n",
    "An example of this input would be:\n",
    "\n",
    "    L0 = 0.01"
   ]
  },
  {
   "cell_type": "markdown",
   "metadata": {},
   "source": [
    "### Parameter 3: N"
   ]
  },
  {
   "cell_type": "markdown",
   "metadata": {},
   "source": [
    "The row number at which the cooling step begins. For example, if you have a simple heat, hold and quench cycle, quenching might begin at row number 12000 and should remain the same for every cooling rate if the heating and holding parameters are kept constant. This value will have to be looked up in the raw .asc file beforehand. Basically, the value is used to separate the cooling curve data from the rest of the test.\n",
    "\n",
    "An example input would be:\n",
    "\n",
    "    N = 12000"
   ]
  },
  {
   "cell_type": "markdown",
   "metadata": {},
   "source": [
    "### Parameter 4: dict_of_offsets"
   ]
  },
  {
   "cell_type": "markdown",
   "metadata": {},
   "source": [
    "A dictionary of the offset values (i.e., the amount each dilation curve will be shifted up the y-axis). It is recommended that each curve should be offset by between 0.002 to 0.006 - but this may need to be adjusted depending on the testing parameters. Bascially, have a play around with these values until the curves are offset by an even amount each.\n",
    "\n",
    "For example, for the .asc files discussed previously the offset values are:\n",
    "\n",
    "    dict_of_offsets = {'0.1':0,'1':0.006,'10':0.009}"
   ]
  },
  {
   "cell_type": "markdown",
   "metadata": {},
   "source": [
    "### Parameter 5: sample"
   ]
  },
  {
   "cell_type": "markdown",
   "metadata": {},
   "source": [
    "An input for the sample name. This parameter is used in the title of the figure and in naming the .png file saved to the directory.\n",
    "\n",
    "An example of this input would be:\n",
    "\n",
    "    sample = 'SA-540, TA=870'"
   ]
  },
  {
   "cell_type": "markdown",
   "metadata": {},
   "source": [
    "## 2. Example"
   ]
  },
  {
   "cell_type": "markdown",
   "metadata": {},
   "source": [
    "An example on how to use this notebook is shown in '**dilation_plotter_example.png**'."
   ]
  },
  {
   "cell_type": "markdown",
   "metadata": {},
   "source": [
    "## 3. Code"
   ]
  },
  {
   "cell_type": "code",
   "execution_count": 6,
   "metadata": {},
   "outputs": [],
   "source": [
    "def dilation_plotter(dict_of_data, L0, N, dict_of_offsets, sample):\n",
    "    # import required packages\n",
    "    import numpy as np\n",
    "    import pandas as pd\n",
    "    import matplotlib.pyplot as plt\n",
    "    \n",
    "    plt.figure(figsize=(12,8))  \n",
    "    for r in dict_of_data:\n",
    "        # read raw dilatometry data, format column names and calculate strain\n",
    "        data = pd.read_csv(dict_of_data[r], delimiter = r\"\\s+\", header = None, skiprows=4, usecols = range(1,3), error_bad_lines=False, engine='python')\n",
    "        data.columns = ['T', 'x']\n",
    "        data['e'] = (data['x']*10**(-6))/L0\n",
    "        \n",
    "        # Isolate the cooling curve\n",
    "        dataset = data[N:]\n",
    "        Temp = np.array(dataset['T'])\n",
    "        strain = np.array(dataset['e'])\n",
    "        \n",
    "        # offset each dilation up the y-axis\n",
    "        strain_off = strain + dict_of_offsets[r]\n",
    "        \n",
    "        # plot curve\n",
    "        plt.plot(Temp, strain_off, color = 'k')\n",
    "        plt.text(max(data['T']), strain_off[0], r, bbox={'facecolor': 'white'})  \n",
    "    \n",
    "    # define figure layout\n",
    "    plt.title(sample+' Dilation Curves', fontsize = 18)\n",
    "    plt.xlabel('Temperature (\\N{DEGREE SIGN}C)', fontsize = 14)\n",
    "    plt.ylabel('Strain (m/m)', fontsize = 14)\n",
    "    plt.yticks([])\n",
    "    plt.savefig(sample+'_Dilation Curves.png')"
   ]
  }
 ],
 "metadata": {
  "kernelspec": {
   "display_name": "Python 3",
   "language": "python",
   "name": "python3"
  },
  "language_info": {
   "codemirror_mode": {
    "name": "ipython",
    "version": 3
   },
   "file_extension": ".py",
   "mimetype": "text/x-python",
   "name": "python",
   "nbconvert_exporter": "python",
   "pygments_lexer": "ipython3",
   "version": "3.8.3"
  }
 },
 "nbformat": 4,
 "nbformat_minor": 4
}
