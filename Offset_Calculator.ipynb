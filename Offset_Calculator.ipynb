{
 "cells": [
  {
   "cell_type": "markdown",
   "metadata": {},
   "source": [
    "# Dilatometry Offset Calculator Notebook"
   ]
  },
  {
   "attachments": {},
   "cell_type": "markdown",
   "metadata": {},
   "source": [
    "This notebook is for calculating the offset strain required for steel dilatometry analysis. The calculated offset is equal to the strain if 1% of martensite nucleates in 100% of austenite and is dependent on alloy composition. The fraction of martensite in this calculation can be altered but 1% (i.e., X = 0.01) is generally recommended for continuous cooling transformation (CCT) analysis. \n",
    "\n",
    "This method was first developed by Yang and Bhadeshia (H-S. Yang and H.K.D.H. Bhadeshia, Materials Science and Technology 23 (2007) 556-560.). See https://www.tandfonline.com/doi/abs/10.1179/174328407X176857 for more information."
   ]
  },
  {
   "cell_type": "markdown",
   "metadata": {},
   "source": [
    "## 1. Input Parameters"
   ]
  },
  {
   "cell_type": "markdown",
   "metadata": {},
   "source": [
    "The input parameters for this calculation include: **composition**, **compositional_unit**, and **X** - the martensite fraction. "
   ]
  },
  {
   "cell_type": "markdown",
   "metadata": {},
   "source": [
    "### Parameter 1: composition"
   ]
  },
  {
   "cell_type": "markdown",
   "metadata": {},
   "source": [
    "The composition parameter should be inputted in dictionary form and should include values for all alloying elements in the steel. This is because the calculation needs the composition in both mole fraction and mass fraction and thus, when converting from one to the other, the full alloy composition is required. Luckily, the user only needs to input one composition (either mole fraction or mass fraction) but will need to specify which one. Any elements not inputted, that are required in offset calculations, will be assumed to equal 0. The code also includes a fail-safe if the concentration of Fe is not inputted and Fe will be set as 1 - sum(element concentrations).\n",
    "\n",
    "**Note:** users should ensure the composition is inputted as a mass/mole fraction, and not a percentage."
   ]
  },
  {
   "cell_type": "markdown",
   "metadata": {},
   "source": [
    "The alloy composition should be inputted in a dictionary format. The layout of which is:\n",
    "\n",
    "    dictionary = { key1 : value1, key2: value2, ect. }\n",
    "\n",
    "An example of an alloy composition in dictionary form is as follows:\n",
    "\n",
    "    composition = {'Fe':0.9649, 'C':0.004, 'Si':0.003, 'Mn':0.007, 'Ni':0.018, 'Mo':0.003, 'Cr':0.009, 'V':0.0001}\n",
    "\n",
    "where keys = element symbol, and values = concentration.\n",
    "   \n",
    "**Note:** the element symbols are inputted with apostrophes around them (i.e., 'Fe')"
   ]
  },
  {
   "cell_type": "markdown",
   "metadata": {},
   "source": [
    "### Parameter 2: composition_unit"
   ]
  },
  {
   "cell_type": "markdown",
   "metadata": {},
   "source": [
    "The second parameter required is simply an input of 2 choices, either:\n",
    "\n",
    "    composition_unit = 'Mass Fraction'\n",
    "    composition_unit = 'Mole Fraction'\n",
    "\n",
    "This parameter is in place to tell the code what units of composition the user has inputted."
   ]
  },
  {
   "cell_type": "markdown",
   "metadata": {},
   "source": [
    "### Parameter 3: X"
   ]
  },
  {
   "cell_type": "markdown",
   "metadata": {},
   "source": [
    "The last parameter is X - which approximately correlates to the percentage transformation being investigated. It is recommended that this parameter is kept as:\n",
    "\n",
    "    X = 0.01 \n",
    "\n",
    "for calculating the strain equal to a 1% transformation."
   ]
  },
  {
   "cell_type": "markdown",
   "metadata": {},
   "source": [
    "## 2. An Example"
   ]
  },
  {
   "cell_type": "markdown",
   "metadata": {},
   "source": [
    "An example of how to use the function is presented below:"
   ]
  },
  {
   "cell_type": "markdown",
   "metadata": {},
   "source": [
    "![title](offset_example.png)"
   ]
  },
  {
   "cell_type": "markdown",
   "metadata": {},
   "source": [
    "## 3. The Code"
   ]
  },
  {
   "cell_type": "code",
   "execution_count": 2,
   "metadata": {},
   "outputs": [],
   "source": [
    "def offset_calculator(composition, composition_unit, X):\n",
    "    \n",
    "    # A dictionary of the molecular weights of elements #\n",
    "    molec_weight = {'Fe':55.85,'C':12.01,'Si':28.09,'Mn':54.94,'Ni':58.69,'Cr':52,'Mo':95.94,'W':183.85,'Co':58.93,'V':50.94,'Nb':92.91,'Cu':63.55,'Al':26.98,'Ti':47.88,'O':16,'N':14.01,'B':10.81,'P':30.97,'S':32.06,'Sn':118.71,'As':74.92,'Sb':121.76,'Ca':40.08}\n",
    "\n",
    "    # Check if the fractions of the required elements have been inputted, and if not set element composition to 0 #\n",
    "    for element in ['C', 'Mn', 'Si', 'Ni', 'Mo', 'Cr', 'V']:\n",
    "        if element in composition.keys():\n",
    "            pass\n",
    "        else:\n",
    "            composition[element] = 0\n",
    "\n",
    "    # Check if Fe has been inputted, and if not add as 1 - sum(elements) #\n",
    "    if 'Fe' in composition.keys():\n",
    "        pass\n",
    "    else:\n",
    "        composition['Fe'] = 1 - sum(composition.values())\n",
    "    \n",
    "    # Create a composition dictionary in mole fraction, if mass fraction inputted\n",
    "    if composition_unit == 'Mass Fraction':\n",
    "        mass_frac = composition.copy()\n",
    "        moles = {}\n",
    "        for element in mass_frac:\n",
    "            moles[element] = mass_frac[element]/molec_weight[element]\n",
    "        total_moles = sum(moles.values())\n",
    "        mole_frac = {}\n",
    "        for element in moles:\n",
    "            mole_frac[element] = moles[element]/total_moles\n",
    "    \n",
    "    # Create a composition dictionary in mass fraction, if mole fraction inputted\n",
    "    elif composition_unit == 'Mole Fraction':\n",
    "        mole_frac = composition.copy()\n",
    "        mass = {}\n",
    "        for element in mole_frac:\n",
    "            mass[element] = mole_frac[element]*molec_weight[element]\n",
    "        total_mass = sum(mass.values())\n",
    "        mass_frac = {}\n",
    "        for element in mass:\n",
    "            mass_frac[element] = mass[element]/total_mass\n",
    "    \n",
    "    # if 'composition_unit' not selected \n",
    "    else:\n",
    "        return print('Incorrect input for -composition_unit-')\n",
    "\n",
    "    # Calculate lattice parameter of martensite #\n",
    "    a_Fe = 0.28664\n",
    "    a_mart = a_Fe + ((((a_Fe - (0.0279*mole_frac['C']))**2)*(a_Fe + (0.2496*mole_frac['C'])) -a_Fe**3)/(3*(a_Fe**2))) - (0.003*mole_frac['Si']) + (0.006*mole_frac['Mn']) + (0.007*mole_frac['Ni']) + (0.031*mole_frac['Mo']) + (0.005*mole_frac['Cr']) + (0.0096*mole_frac['V'])\n",
    "\n",
    "    # Calculate lattice parameter of austenite #\n",
    "    a_aust = 0.3573 + (3.3*10**(-1)*mass_frac['C']) + (9.5*10**(-3)*mass_frac['Mn']) - (2*10**(-3)*mass_frac['Ni']) + (6*10**(-3)*mass_frac['Cr']) + (3.1*10**(-2)*mass_frac['Mo']) + (1.8*10**(-2)*mass_frac['V'])\n",
    "\n",
    "    # Calculate offset at desired volume fraction, X #\n",
    "    e = (((a_aust**(-3))*((2*X*(a_mart**3)) + ((1-X)*(a_aust**3))))**(1/3)) - 1\n",
    "    return e"
   ]
  }
 ],
 "metadata": {
  "kernelspec": {
   "display_name": "Python 3",
   "language": "python",
   "name": "python3"
  },
  "language_info": {
   "codemirror_mode": {
    "name": "ipython",
    "version": 3
   },
   "file_extension": ".py",
   "mimetype": "text/x-python",
   "name": "python",
   "nbconvert_exporter": "python",
   "pygments_lexer": "ipython3",
   "version": "3.8.3"
  }
 },
 "nbformat": 4,
 "nbformat_minor": 2
}
