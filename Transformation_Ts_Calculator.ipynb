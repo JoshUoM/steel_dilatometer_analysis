{
 "cells": [
  {
   "cell_type": "markdown",
   "metadata": {},
   "source": [
    "# Transformation Start, Ts Calculator"
   ]
  },
  {
   "cell_type": "markdown",
   "metadata": {},
   "source": [
    "This notebook is for the analysis of dilation curves, primarily for steel alloys with allotromorphic phase transformations, for the determination of transformation start temperatures. The calculator adopts the offset method, first proposed by Yang and Bhadeshia, to predict the temperature at which 1% of a transformation has occurred. For more information regarding the offset method see H-S. Yang and H.K.D.H. Bhadeshia, Materials Science and Technology 23 (2007) 556-560. https://www.tandfonline.com/doi/abs/10.1179/174328407X176857. "
   ]
  },
  {
   "cell_type": "markdown",
   "metadata": {},
   "source": [
    "## 1. Input Parameters"
   ]
  },
  {
   "cell_type": "markdown",
   "metadata": {},
   "source": [
    "The input parameters for this calculator are: **file**, **sample**, **L0**, **offset**, and **ranges**."
   ]
  },
  {
   "cell_type": "markdown",
   "metadata": {},
   "source": [
    "### Parameter 1: file"
   ]
  },
  {
   "cell_type": "markdown",
   "metadata": {},
   "source": [
    "The file parameter is for the input of the pure .asc dilatometry file to be analysed. The format of the .asc file should only contain a column for temperature and a column for change in length (in that order). An example input file can be viewed along side this notebook titled '**dilation_file_example.asc**' for clarification. \n",
    "\n",
    "An example input of this parameter would be:\n",
    "\n",
    "    file = 'dilation_file_example.asc'"
   ]
  },
  {
   "cell_type": "markdown",
   "metadata": {},
   "source": [
    "### Parameter 2: sample"
   ]
  },
  {
   "cell_type": "markdown",
   "metadata": {},
   "source": [
    "This parameter is for inputting the name of the sample being analysed. This is simply to help distinguish between multiple samples being analysed at once and will appear above the analysed data.\n",
    "\n",
    "An example of this input, for a SA-540 steel sample held at 870°C and cooled at 1°C/s, could be as follows:\n",
    "\n",
    "    sample = 'SA-540, TA=870C, Q=1C/s'"
   ]
  },
  {
   "cell_type": "markdown",
   "metadata": {},
   "source": [
    "### Parameter 3: L0"
   ]
  },
  {
   "cell_type": "markdown",
   "metadata": {},
   "source": [
    "The L0 parameter is the value for the initial length of the dilatometer sample (in metres). This value is used to calculate the sample strain from the measured change in length. \n",
    "\n",
    "An example of this input would be:\n",
    "\n",
    "    L0 = 0.01"
   ]
  },
  {
   "cell_type": "markdown",
   "metadata": {},
   "source": [
    "### Parameter 4: offset"
   ]
  },
  {
   "cell_type": "markdown",
   "metadata": {},
   "source": [
    "This value is used to offset the linear, untransformed gradient line to predict the transformation start temperature at the intercept of the offset line. More information regarding this technique can be found in the '**Dilatometer quenching tests**' experiment document associated with these analysis codes. \n",
    "\n",
    "The value of this offset can be calculated using another Jupyter notebook available with these analysis codes called '**Offset_Calculator.ipynb**'. \n",
    "\n",
    "An example of this input would be:\n",
    "\n",
    "    offset = 0.00011672"
   ]
  },
  {
   "cell_type": "markdown",
   "metadata": {},
   "source": [
    "### Parameter 5: ranges"
   ]
  },
  {
   "cell_type": "markdown",
   "metadata": {},
   "source": [
    "This parameter is for inputting the temperature ranges in which to measure the gradient of the untransformed line to be offset. It is recommended that 3 different ranges are selected so that any uncertainty can be measured. Temperature ranges should be at least 50°C away from the transformation start temperature and over at least a 50°C range. \n",
    "\n",
    "The input of this parameter should be as a nested list, the form of which is:\n",
    "\n",
    "    nested_list = [[T11,T21],[T12,T22],[T13,T23]]\n",
    "    \n",
    "An example of the inputted temperature ranges for a Ts ~ 450°C could be:\n",
    "\n",
    "    ranges = [[500,550],[550,600],[600,650]]"
   ]
  },
  {
   "cell_type": "markdown",
   "metadata": {},
   "source": [
    "## 2. Example"
   ]
  },
  {
   "attachments": {},
   "cell_type": "markdown",
   "metadata": {},
   "source": [
    "See '**transformation_analysis_example.png**' for an example of how to use this calculator."
   ]
  },
  {
   "cell_type": "markdown",
   "metadata": {},
   "source": [
    "## 3. Code"
   ]
  },
  {
   "cell_type": "code",
   "execution_count": 1,
   "metadata": {},
   "outputs": [],
   "source": [
    "# Import required packages\n",
    "import numpy as np\n",
    "import pandas as pd\n",
    "import matplotlib.pyplot as plt\n",
    "        \n",
    "def Ts_Calculator(file,sample,L0,offset,ranges):\n",
    "    \n",
    "    # Read .asc file and calculate strain\n",
    "    data = pd.read_csv('test.asc', delimiter = r\"\\s+\", header = None, skiprows=4, usecols = range(1,3), error_bad_lines=False, engine='python')\n",
    "    data.columns = ['T', 'x']\n",
    "    data['e'] = (data['x']*10**(-6))/L0\n",
    "    \n",
    "    # Isolate the cooling curve (Note-to-self: this may need altering for complex treatments)\n",
    "    dataset = data.tail(n = int(len(data)/2))\n",
    "    Temp = np.array(dataset['T'])\n",
    "    strain = np.array(dataset['e'])\n",
    "    \n",
    "    # Plot dilation curve \n",
    "    data.plot(x = 'T', y = 'e', figsize = (16,6), color = 'seagreen', label = 'Dilation Curve')\n",
    "    plt.title(sample+' Dilation Analysis', fontsize = 16)\n",
    "    plt.xlabel('Temperature (\\N{DEGREE SIGN}C)', fontsize = 12)\n",
    "    plt.ylabel('Strain (m/m)', fontsize = 12)\n",
    "    plt.show()\n",
    "    \n",
    "    # Calculate gradient/s and isolate intercept with offsetted line\n",
    "    intercepts = []\n",
    "    m = 0\n",
    "    fig, axs = plt.subplots(1, len(ranges), figsize = (16,5))\n",
    "    for x in ranges: \n",
    "        i = []\n",
    "        y = []\n",
    "        y_off = []\n",
    "        for n in range(len(dataset)):\n",
    "            if round(dataset.iloc[n].loc['T'],0) == x[0]:\n",
    "                e0 = dataset.iloc[n].loc['e']\n",
    "            if round(dataset.iloc[n].loc['T'],0) == x[1]:\n",
    "                e1 = dataset.iloc[n].loc['e']\n",
    "\n",
    "        g = (e1-e0)/(x[1]-x[0])\n",
    "        c = e0-(x[0]*g)+offset\n",
    "\n",
    "        for T in Temp:\n",
    "            y_off.append(T*g+c)\n",
    "            y.append(T*g+c-offset)\n",
    "          \n",
    "        idx = np.argwhere(np.gradient(np.sign(np.array(y_off) - np.array(strain)))).flatten()   \n",
    "        for n in range(len(idx)):\n",
    "            if Temp[idx[n]] < x[0] and Temp[idx[n]] > (x[0]-250):\n",
    "                i.append(round(Temp[idx[n]],1))\n",
    "        try:      \n",
    "            intercept = i[0]\n",
    "            intercepts.append(intercept)\n",
    "        except IndexError:\n",
    "            return print('No intercept found for range: [',x[0],',',x[1],']')\n",
    "        \n",
    "        # Plot graphs showing interception points\n",
    "        if len(ranges) > 1:\n",
    "            axs[m].plot(dataset['T'], dataset['e'], label = 'Dilation Curve')\n",
    "            axs[m].set_xlim(x[1]-300,x[1])\n",
    "            axs[m].set_ylim(intercept*g+c-0.0005,x[1]*g+c+0.0005)\n",
    "            axs[m].plot(Temp, y, linestyle = '-', color = 'k', linewidth = 1)\n",
    "            axs[m].plot(Temp, y_off, linestyle = '--', color = 'k', linewidth = 1, label = 'Offset Fit')\n",
    "            axs[m].scatter(intercept,intercept*g+c, marker = 'o', color = 'r')\n",
    "            axs[m].text(intercept+25, intercept*g+c, str(intercept), fontsize = 12, bbox={'facecolor': 'white'}, color = 'red')\n",
    "\n",
    "            axs[m].set_title('Slope Range: '+str(x[0])+' - '+str(x[1])+'\\N{DEGREE SIGN}C', fontsize = 14)\n",
    "            axs[m].set_xlabel('Temperature (\\N{DEGREE SIGN}C)', fontsize = 12)\n",
    "            if m == 0:\n",
    "                axs[m].set_ylabel('Strain (m/m)', fontsize = 12)\n",
    "            else:\n",
    "                pass\n",
    "            m = m + 1\n",
    "        else:\n",
    "            plt.plot(dataset['T'], dataset['e'], label = 'Dilation Curve')\n",
    "            plt.xlim(x[1]-300,x[1])\n",
    "            plt.ylim(intercept*g+c-0.0005,x[1]*g+c+0.0005)\n",
    "            plt.plot(Temp, y, linestyle = '-', color = 'k', linewidth = 1)\n",
    "            plt.plot(Temp, y_off, linestyle = '--', color = 'k', linewidth = 1, label = 'Offset Fit')\n",
    "            plt.scatter(intercept,intercept*g+c, marker = 'o', color = 'r')\n",
    "            plt.text(intercept+25, intercept*g+c, str(intercept), fontsize = 12, bbox={'facecolor': 'white'}, color = 'red')\n",
    "\n",
    "            plt.title('Slope Range: '+str(x[0])+' - '+str(x[1])+'\\N{DEGREE SIGN}C', fontsize = 14)\n",
    "            plt.xlabel('Temperature (\\N{DEGREE SIGN}C)', fontsize = 12)\n",
    "            plt.ylabel('Strain (m/m)', fontsize = 12)\n",
    "    \n",
    "    print('Start Temperature = ', str(round(np.mean(intercepts),1)), u'\\xb1',str(round(np.std(intercepts),2)), '\\N{DEGREE SIGN}C')\n",
    "    plt.show()\n",
    "    return"
   ]
  }
 ],
 "metadata": {
  "kernelspec": {
   "display_name": "Python 3",
   "language": "python",
   "name": "python3"
  },
  "language_info": {
   "codemirror_mode": {
    "name": "ipython",
    "version": 3
   },
   "file_extension": ".py",
   "mimetype": "text/x-python",
   "name": "python",
   "nbconvert_exporter": "python",
   "pygments_lexer": "ipython3",
   "version": "3.7.3"
  }
 },
 "nbformat": 4,
 "nbformat_minor": 2
}
